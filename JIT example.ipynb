{
 "cells": [
  {
   "cell_type": "code",
   "execution_count": 1,
   "metadata": {},
   "outputs": [],
   "source": [
    "import os\n",
    "import comptools\n",
    "from setuptools import setup, Extension\n",
    "import bindthem\n",
    "import subprocess\n",
    "\n",
    "def bindit(name):\n",
    "    subprocess.check_output(['./bindthem.py', name])\n",
    "\n",
    "def buildit(name):\n",
    "\n",
    "    get_pybind_include = comptools.get_pybind_include\n",
    "    BuildExt = comptools.BuildExt\n",
    "    ext_modules = [Extension(name,\n",
    "                             sources=[name+'_bind.cpp'],\n",
    "                             include_dirs=[get_pybind_include(), get_pybind_include(user=True)],\n",
    "                             language='c++')]\n",
    "\n",
    "    setup(\n",
    "        include_package_data=False,\n",
    "        zip_safe=False,\n",
    "        #\n",
    "        script_args=['build_ext', '--inplace'],\n",
    "        ext_modules=ext_modules,\n",
    "        cmdclass={'build_ext': BuildExt},\n",
    "        install_requires=['numpy>=1.7.0', 'pybind11>=2.2']\n",
    "        );\n",
    "\n",
    "# https://stackoverflow.com/questions/11130156/suppress-stdout-stderr-print-from-python-functions\n",
    "from contextlib import contextmanager,redirect_stderr,redirect_stdout\n",
    "from os import devnull\n",
    "\n",
    "@contextmanager\n",
    "def suppress_stdout_stderr():\n",
    "    \"\"\"A context manager that redirects stdout and stderr to devnull\"\"\"\n",
    "    with open(devnull, 'w') as fnull:\n",
    "        with redirect_stderr(fnull) as err, redirect_stdout(fnull) as out:\n",
    "            yield (err, out)"
   ]
  },
  {
   "cell_type": "code",
   "execution_count": 2,
   "metadata": {},
   "outputs": [],
   "source": [
    "def f(a):\n",
    "    print(\"here\")\n",
    "    return\n",
    "\n",
    "with suppress_stdout_stderr():\n",
    "    f(1)"
   ]
  },
  {
   "cell_type": "code",
   "execution_count": null,
   "metadata": {},
   "outputs": [],
   "source": [
    "import importlib\n",
    "\n",
    "class myjit(object):\n",
    "    def __init__(self, name):\n",
    "        self.name = name\n",
    "    def __call__(self, *args):\n",
    "        built = importlib.util.find_spec(self.name)\n",
    "        \n",
    "        if built:\n",
    "            print(\"Using jitted {}!\".format(self.name))\n",
    "        else:\n",
    "            print('jitting {}!'.format(self.name))\n",
    "            with suppress_stdout_stderr():\n",
    "                bindit(self.name+'.cpp')\n",
    "                buildit(self.name)\n",
    "        \n",
    "        mod = importlib.import_module(self.name)\n",
    "        func = getattr(mod, self.name)\n",
    "        return func(*args)\n",
    "    "
   ]
  },
  {
   "cell_type": "code",
   "execution_count": 4,
   "metadata": {},
   "outputs": [],
   "source": [
    "g = myjit('spmv')"
   ]
  },
  {
   "cell_type": "code",
   "execution_count": 5,
   "metadata": {},
   "outputs": [
    {
     "name": "stdout",
     "output_type": "stream",
     "text": [
      "Using jitted spmv!\n",
      "[1. 0. 1.]\n"
     ]
    }
   ],
   "source": [
    "import pyamg\n",
    "import numpy as np\n",
    "A = pyamg.gallery.poisson((3,), format='csr')\n",
    "x = np.ones((3,))\n",
    "y = np.zeros((3,))\n",
    "g(A.shape[0], A.indptr, A.indices, A.data, x, y)\n",
    "print(y)\n",
    "np.testing.assert_array_almost_equal(y, A*x)"
   ]
  }
 ],
 "metadata": {
  "kernelspec": {
   "display_name": "Python 3",
   "language": "python",
   "name": "python3"
  },
  "language_info": {
   "codemirror_mode": {
    "name": "ipython",
    "version": 3
   },
   "file_extension": ".py",
   "mimetype": "text/x-python",
   "name": "python",
   "nbconvert_exporter": "python",
   "pygments_lexer": "ipython3",
   "version": "3.7.1"
  }
 },
 "nbformat": 4,
 "nbformat_minor": 2
}
